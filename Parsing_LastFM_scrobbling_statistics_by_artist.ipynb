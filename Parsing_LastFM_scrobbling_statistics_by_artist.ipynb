{
  "nbformat": 4,
  "nbformat_minor": 0,
  "metadata": {
    "colab": {
      "provenance": [],
      "authorship_tag": "ABX9TyMsLSCnY3d/VOVPrUzlK8VT",
      "include_colab_link": true
    },
    "kernelspec": {
      "name": "python3",
      "display_name": "Python 3"
    },
    "language_info": {
      "name": "python"
    }
  },
  "cells": [
    {
      "cell_type": "markdown",
      "metadata": {
        "id": "view-in-github",
        "colab_type": "text"
      },
      "source": [
        "<a href=\"https://colab.research.google.com/github/Raoufmamedov/Pet_projects_1/blob/main/Parsing_LastFM_scrobbling_statistics_by_artist.ipynb\" target=\"_parent\"><img src=\"https://colab.research.google.com/assets/colab-badge.svg\" alt=\"Open In Colab\"/></a>"
      ]
    },
    {
      "cell_type": "code",
      "execution_count": 2,
      "metadata": {
        "colab": {
          "base_uri": "https://localhost:8080/"
        },
        "id": "1hY-1o7g9lI6",
        "outputId": "07da7e64-48cc-412e-f50e-ba85c020b164"
      },
      "outputs": [
        {
          "output_type": "stream",
          "name": "stdout",
          "text": [
            "Requirement already satisfied: requests in /usr/local/lib/python3.10/dist-packages (2.31.0)\n",
            "Requirement already satisfied: charset-normalizer<4,>=2 in /usr/local/lib/python3.10/dist-packages (from requests) (3.3.2)\n",
            "Requirement already satisfied: idna<4,>=2.5 in /usr/local/lib/python3.10/dist-packages (from requests) (3.6)\n",
            "Requirement already satisfied: urllib3<3,>=1.21.1 in /usr/local/lib/python3.10/dist-packages (from requests) (2.0.7)\n",
            "Requirement already satisfied: certifi>=2017.4.17 in /usr/local/lib/python3.10/dist-packages (from requests) (2023.11.17)\n",
            "Requirement already satisfied: beautifulSoup4 in /usr/local/lib/python3.10/dist-packages (4.11.2)\n",
            "Requirement already satisfied: soupsieve>1.2 in /usr/local/lib/python3.10/dist-packages (from beautifulSoup4) (2.5)\n"
          ]
        }
      ],
      "source": [
        "!pip install requests\n",
        "!pip install beautifulSoup4\n",
        "from pprint import pprint # Импортируем функцию pprint()\n",
        "import json # Импортируем модуль json\n",
        "import requests\n",
        "import pandas as pd\n",
        "from bs4  import BeautifulSoup"
      ]
    },
    {
      "cell_type": "code",
      "source": [
        "# url = 'https://vz.ru/opinions/2023/10/24/1235800.html'\n",
        "\n",
        "url='https://www.last.fm/ru/music/Pink+Floyd/+tracks?date_preset=ALL#top-tracks'"
      ],
      "metadata": {
        "id": "EumO64czt-1j"
      },
      "execution_count": 3,
      "outputs": []
    },
    {
      "cell_type": "code",
      "source": [
        "\n",
        "response = requests.get(url,  headers={'User-Agent': 'Mozilla/5.0'}) # Выполняем GET-запрос, содержимое ответа присваивается переменной response\n",
        "page = BeautifulSoup(response.text, 'html.parser', ) # Создаём объект BeautifulSoup, указывая html-парсер\n",
        "# print(page.title) # Получаем тег title, отображающийся на вкладке браузера\n",
        "# print(page.title.text) # Выводим текст из полученного тега, который содержится в атрибуте text\n",
        "\n",
        "# print(page.body) # Получаем тег title, отображающийся на вкладке браузера\n",
        "# print(page.body.text) # Выводим текст из полученного тега, который содержится в атрибуте text"
      ],
      "metadata": {
        "id": "lJiN8RiF1yXh"
      },
      "execution_count": 4,
      "outputs": []
    },
    {
      "cell_type": "code",
      "source": [
        "print(\" \".join(page.body.text.split())[:200])"
      ],
      "metadata": {
        "colab": {
          "base_uri": "https://localhost:8080/"
        },
        "id": "h2fOo9dWDYZi",
        "outputId": "8cc4bea9-ec37-4165-d676-e73b868fdede"
      },
      "execution_count": 5,
      "outputs": [
        {
          "output_type": "stream",
          "name": "stdout",
          "text": [
            "Слушать через Spotify Слушать через YouTube Параметры воспроизведения Воспроизведение на… Переключиться на устройство Spotify Открыть в веб-проигрывателе Spotify Изменить источник воспроизведения Откр\n"
          ]
        }
      ]
    },
    {
      "cell_type": "markdown",
      "source": [
        "Извлекаем все теги"
      ],
      "metadata": {
        "id": "EkrY1o2oua0F"
      }
    },
    {
      "cell_type": "code",
      "source": [
        "print(set(list([tag.name for tag in page.find_all()])))"
      ],
      "metadata": {
        "colab": {
          "base_uri": "https://localhost:8080/"
        },
        "id": "Yx01uFCUuh_4",
        "outputId": "967bcc2b-21f5-4d1d-ccf0-4015d581a2b0"
      },
      "execution_count": 10,
      "outputs": [
        {
          "output_type": "stream",
          "name": "stdout",
          "text": [
            "{'img', 'thead', 'form', 'ol', 'title', 'a', 'li', 'button', 'nav', 'span', 'html', 'p', 'tr', 'table', 'div', 'script', 'header', 'h3', 'h2', 'th', 'section', 'link', 'tbody', 'label', 'h1', 'footer', 'body', 'td', 'redirect-bar', 'head', 'strong', 'ul', 'meta', 'input'}\n"
          ]
        }
      ]
    },
    {
      "cell_type": "markdown",
      "source": [
        "Выводим весь контент по тэгам"
      ],
      "metadata": {
        "id": "sWjFvfR1urRw"
      }
    },
    {
      "cell_type": "code",
      "source": [
        "tagdict=dict()\n",
        "for s in list([tag.name for tag in page.find_all()]):\n",
        "  z=\" \".join(page.find(s).text.split())\n",
        "  if len(z)>0 and s!=(\"style\" and \"script\"): #Удаление пустых тегов и сецификации стиля\n",
        "    tagdict[s]=z"
      ],
      "metadata": {
        "id": "LBnkzZ8_dbN9"
      },
      "execution_count": 11,
      "outputs": []
    },
    {
      "cell_type": "code",
      "source": [
        "a=pd.Series(tagdict['table'].split('Воспроизвести')).str.replace(\"Отметить композицию как любимую \", \"\")\n",
        "a=a.str.replace(\"Слушать Альбом Любимая Имя композиции\", \"\")\n",
        "a=a.str.replace(\"Купить Загрузка Больше Эта композиция - мое увлечение Получить композицию Загрузка\", \"\")\n"
      ],
      "metadata": {
        "id": "rHUhMiZ-vYD0"
      },
      "execution_count": 13,
      "outputs": []
    },
    {
      "cell_type": "code",
      "source": [
        "a.str.split(\"  \", expand=True).T.values"
      ],
      "metadata": {
        "colab": {
          "base_uri": "https://localhost:8080/"
        },
        "id": "vx3tdG6ufez0",
        "outputId": "be8c2f62-fecd-406c-e030-69c8fae7cafb"
      },
      "execution_count": 14,
      "outputs": [
        {
          "output_type": "execute_result",
          "data": {
            "text/plain": [
              "array([['Рейтинг', ' Wish You Were Here', ' Money', ' Comfortably Numb',\n",
              "        ' Time', ' The Great Gig in the Sky', ' Us and Them',\n",
              "        ' Brain Damage', ' Hey You', ' On the Run', ' Eclipse',\n",
              "        ' Any Colour You Like', ' Have a Cigar',\n",
              "        ' The Happiest Days of Our Lives', ' Mother',\n",
              "        ' Goodbye Blue Sky', ' Another Brick in the Wall, Pt. 2',\n",
              "        ' Young Lust', ' Welcome to the Machine', ' Run Like Hell',\n",
              "        ' Speak to Me', ' The Thin Ice', ' Breathe (In the Air)',\n",
              "        ' Empty Spaces', ' Learning to Fly', ' High Hopes',\n",
              "        ' Goodbye Cruel World', ' One of My Turns', ' In the Flesh',\n",
              "        ' Astronomy Domine', ' The Show Must Go On', ' Nobody Home',\n",
              "        \" Don't Leave Me Now\", ' Vera', ' Echoes', ' One of These Days',\n",
              "        ' In the Flesh?', ' Bring the Boys Back Home', ' Sheep', ' Dogs',\n",
              "        ' Is There Anybody Out There?', ' Waiting for the Worms',\n",
              "        ' Pigs (Three Different Ones)', ' The Trial',\n",
              "        ' Outside the Wall', ' Marooned', ' What Do You Want From Me',\n",
              "        ' Keep Talking', ' Fearless', ' Bike', ' Sorrow'],\n",
              "       ['Купить Настройки Слушатели 1 ', '1 581 740 слушателей 2 ',\n",
              "        '1 295 177 слушателей 3 ', '1 230 782 слушателя 4 ',\n",
              "        '1 213 192 слушателя 5 ',\n",
              "        '1 161 098 слушателей Надоела реклама? Стань подписчиком 6 ',\n",
              "        '986 769 слушателей 7 ', '950 962 слушателя 8 ',\n",
              "        '928 780 слушателей 9 ', '911 867 слушателей 10 ',\n",
              "        '893 086 слушателей 11 ', '853 456 слушателей 12 ',\n",
              "        '691 664 слушателя 13 ', '686 298 слушателей 14 ',\n",
              "        '656 957 слушателей 15 ', '651 230 слушателей 16 ',\n",
              "        '624 407 слушателей 17 ', '616 873 слушателя 18 ',\n",
              "        '602 902 слушателя 19 ', '588 733 слушателя 20 ',\n",
              "        '577 599 слушателей 21 ', '569 821 слушатель 22 ',\n",
              "        '540 986 слушателей 23 ', '539 950 слушателей 24 ',\n",
              "        '539 691 слушатель 25 ',\n",
              "        '520 197 слушателей Надоела реклама? Стань подписчиком 26 ',\n",
              "        '511 096 слушателей 27 ', '501 470 слушателей 28 ',\n",
              "        '497 750 слушателей 29 ', '492 147 слушателей 30 ',\n",
              "        '480 493 слушателя 31 ', '479 435 слушателей 32 ',\n",
              "        '465 228 слушателей 33 ', '464 781 слушатель 34 ',\n",
              "        '464 024 слушателя 35 ', '462 406 слушателей 36 ',\n",
              "        '461 707 слушателей 37 ', '445 766 слушателей 38 ',\n",
              "        '442 707 слушателей 39 ', '440 741 слушатель 40 ',\n",
              "        '434 867 слушателей 41 ', '417 942 слушателя 42 ',\n",
              "        '406 948 слушателей 43 ', '401 383 слушателя 44 ',\n",
              "        '398 853 слушателя 45 ', '388 948 слушателей 46 ',\n",
              "        '364 623 слушателя 47 ', '361 575 слушателей 48 ',\n",
              "        '361 372 слушателя 49 ', '331 478 слушателей 50 ',\n",
              "        '326 221 слушатель']], dtype=object)"
            ]
          },
          "metadata": {},
          "execution_count": 14
        }
      ]
    },
    {
      "cell_type": "code",
      "source": [
        "artist, listeners=[*a.str.split(\"  \", expand=True).T.values]\n",
        "# .iloc[:, 1].str.split(expand=True)"
      ],
      "metadata": {
        "id": "vzRiX4nk8HBa"
      },
      "execution_count": 15,
      "outputs": []
    },
    {
      "cell_type": "code",
      "source": [
        "listtable=pd.DataFrame(listeners, index=list(artist)).iloc[1:, 0].str.split(\"слушат*\", expand=True).iloc[:, :1]\n",
        "listtable.columns=['Artist']\n",
        "print(listtable.Artist.str.replace(\" \", \"\").astype('uint32'), file=open('PF.csv','w'))"
      ],
      "metadata": {
        "id": "lsxZta8naI65"
      },
      "execution_count": 16,
      "outputs": []
    },
    {
      "cell_type": "code",
      "source": [
        "artist"
      ],
      "metadata": {
        "colab": {
          "base_uri": "https://localhost:8080/"
        },
        "id": "T85krxZxb4g5",
        "outputId": "6f6e3bb1-389d-4e05-f97d-bb687d57cc6a"
      },
      "execution_count": 18,
      "outputs": [
        {
          "output_type": "execute_result",
          "data": {
            "text/plain": [
              "array(['Рейтинг', ' Wish You Were Here', ' Money', ' Comfortably Numb',\n",
              "       ' Time', ' The Great Gig in the Sky', ' Us and Them',\n",
              "       ' Brain Damage', ' Hey You', ' On the Run', ' Eclipse',\n",
              "       ' Any Colour You Like', ' Have a Cigar',\n",
              "       ' The Happiest Days of Our Lives', ' Mother', ' Goodbye Blue Sky',\n",
              "       ' Another Brick in the Wall, Pt. 2', ' Young Lust',\n",
              "       ' Welcome to the Machine', ' Run Like Hell', ' Speak to Me',\n",
              "       ' The Thin Ice', ' Breathe (In the Air)', ' Empty Spaces',\n",
              "       ' Learning to Fly', ' High Hopes', ' Goodbye Cruel World',\n",
              "       ' One of My Turns', ' In the Flesh', ' Astronomy Domine',\n",
              "       ' The Show Must Go On', ' Nobody Home', \" Don't Leave Me Now\",\n",
              "       ' Vera', ' Echoes', ' One of These Days', ' In the Flesh?',\n",
              "       ' Bring the Boys Back Home', ' Sheep', ' Dogs',\n",
              "       ' Is There Anybody Out There?', ' Waiting for the Worms',\n",
              "       ' Pigs (Three Different Ones)', ' The Trial', ' Outside the Wall',\n",
              "       ' Marooned', ' What Do You Want From Me', ' Keep Talking',\n",
              "       ' Fearless', ' Bike', ' Sorrow'], dtype=object)"
            ]
          },
          "metadata": {},
          "execution_count": 18
        }
      ]
    },
    {
      "cell_type": "code",
      "source": [],
      "metadata": {
        "id": "BPexkGvIcuSr"
      },
      "execution_count": null,
      "outputs": []
    },
    {
      "cell_type": "markdown",
      "source": [],
      "metadata": {
        "id": "P5FBbOvJq15I"
      }
    },
    {
      "cell_type": "code",
      "source": [
        "import os\n",
        "os.mkdir('new')"
      ],
      "metadata": {
        "id": "E2xjj4rUq5mm"
      },
      "execution_count": 19,
      "outputs": []
    },
    {
      "cell_type": "code",
      "source": [
        "os.chdir('new')"
      ],
      "metadata": {
        "id": "iaiWekUmrTuT"
      },
      "execution_count": 20,
      "outputs": []
    },
    {
      "cell_type": "code",
      "source": [
        "print(\" \".join(page.find('article').text.split()), file=open('article.txt', 'w'))"
      ],
      "metadata": {
        "id": "hmysM6o0e1Bc",
        "outputId": "547ac185-f9a4-422c-e70c-60ff2aa838cf",
        "colab": {
          "base_uri": "https://localhost:8080/",
          "height": 179
        }
      },
      "execution_count": 21,
      "outputs": [
        {
          "output_type": "error",
          "ename": "AttributeError",
          "evalue": "'NoneType' object has no attribute 'text'",
          "traceback": [
            "\u001b[0;31m---------------------------------------------------------------------------\u001b[0m",
            "\u001b[0;31mAttributeError\u001b[0m                            Traceback (most recent call last)",
            "\u001b[0;32m<ipython-input-21-0b8d6589a5cb>\u001b[0m in \u001b[0;36m<cell line: 1>\u001b[0;34m()\u001b[0m\n\u001b[0;32m----> 1\u001b[0;31m \u001b[0mprint\u001b[0m\u001b[0;34m(\u001b[0m\u001b[0;34m\" \"\u001b[0m\u001b[0;34m.\u001b[0m\u001b[0mjoin\u001b[0m\u001b[0;34m(\u001b[0m\u001b[0mpage\u001b[0m\u001b[0;34m.\u001b[0m\u001b[0mfind\u001b[0m\u001b[0;34m(\u001b[0m\u001b[0;34m'article'\u001b[0m\u001b[0;34m)\u001b[0m\u001b[0;34m.\u001b[0m\u001b[0mtext\u001b[0m\u001b[0;34m.\u001b[0m\u001b[0msplit\u001b[0m\u001b[0;34m(\u001b[0m\u001b[0;34m)\u001b[0m\u001b[0;34m)\u001b[0m\u001b[0;34m,\u001b[0m \u001b[0mfile\u001b[0m\u001b[0;34m=\u001b[0m\u001b[0mopen\u001b[0m\u001b[0;34m(\u001b[0m\u001b[0;34m'article.txt'\u001b[0m\u001b[0;34m,\u001b[0m \u001b[0;34m'w'\u001b[0m\u001b[0;34m)\u001b[0m\u001b[0;34m)\u001b[0m\u001b[0;34m\u001b[0m\u001b[0;34m\u001b[0m\u001b[0m\n\u001b[0m",
            "\u001b[0;31mAttributeError\u001b[0m: 'NoneType' object has no attribute 'text'"
          ]
        }
      ]
    },
    {
      "cell_type": "code",
      "source": [],
      "metadata": {
        "id": "lxGE0HWz_8fI"
      },
      "execution_count": null,
      "outputs": []
    }
  ]
}