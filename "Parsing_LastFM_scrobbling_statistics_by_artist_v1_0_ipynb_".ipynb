{
  "nbformat": 4,
  "nbformat_minor": 0,
  "metadata": {
    "colab": {
      "provenance": [],
      "authorship_tag": "ABX9TyNXXVrhrdidzr6NRXm0J6Sx",
      "include_colab_link": true
    },
    "kernelspec": {
      "name": "python3",
      "display_name": "Python 3"
    },
    "language_info": {
      "name": "python"
    }
  },
  "cells": [
    {
      "cell_type": "markdown",
      "metadata": {
        "id": "view-in-github",
        "colab_type": "text"
      },
      "source": [
        "<a href=\"https://colab.research.google.com/github/Raoufmamedov/Pet_projects_1/blob/main/%22Parsing_LastFM_scrobbling_statistics_by_artist_v1_0_ipynb_%22.ipynb\" target=\"_parent\"><img src=\"https://colab.research.google.com/assets/colab-badge.svg\" alt=\"Open In Colab\"/></a>"
      ]
    },
    {
      "cell_type": "code",
      "execution_count": null,
      "metadata": {
        "colab": {
          "base_uri": "https://localhost:8080/"
        },
        "id": "1hY-1o7g9lI6",
        "outputId": "ca972a87-c984-4a15-b184-842dbd00bb01"
      },
      "outputs": [
        {
          "output_type": "stream",
          "name": "stdout",
          "text": [
            "Requirement already satisfied: requests in /usr/local/lib/python3.10/dist-packages (2.31.0)\n",
            "Requirement already satisfied: charset-normalizer<4,>=2 in /usr/local/lib/python3.10/dist-packages (from requests) (3.3.0)\n",
            "Requirement already satisfied: idna<4,>=2.5 in /usr/local/lib/python3.10/dist-packages (from requests) (3.4)\n",
            "Requirement already satisfied: urllib3<3,>=1.21.1 in /usr/local/lib/python3.10/dist-packages (from requests) (2.0.7)\n",
            "Requirement already satisfied: certifi>=2017.4.17 in /usr/local/lib/python3.10/dist-packages (from requests) (2023.7.22)\n",
            "Requirement already satisfied: beautifulSoup4 in /usr/local/lib/python3.10/dist-packages (4.11.2)\n",
            "Requirement already satisfied: soupsieve>1.2 in /usr/local/lib/python3.10/dist-packages (from beautifulSoup4) (2.5)\n"
          ]
        }
      ],
      "source": [
        "!pip install requests\n",
        "!pip install beautifulSoup4\n",
        "from pprint import pprint # Импортируем функцию pprint()\n",
        "import json # Импортируем модуль json\n",
        "import requests\n",
        "import pandas as pd\n",
        "import numpy as np\n",
        "from bs4  import BeautifulSoup\n",
        "from matplotlib import pyplot as plt"
      ]
    },
    {
      "cell_type": "code",
      "source": [
        "import seaborn as sns"
      ],
      "metadata": {
        "id": "jPtqVE_R7RnM"
      },
      "execution_count": null,
      "outputs": []
    },
    {
      "cell_type": "code",
      "source": [
        "def scrobbling_stats(name, save=False, plot=True, filename='scr_data.csv'):\n",
        "  print()\n",
        "  urllink='https://www.last.fm/ru/music/{}/+tracks?date_preset=ALL#top-tracks'.format(name)\n",
        "  response = requests.get(urllink,  headers={'User-Agent': 'Mozilla/5.0'})\n",
        "  page = BeautifulSoup(response.text, 'html.parser')\n",
        "  tagdict=dict()\n",
        "  for s in list([tag.name for tag in page.find_all()]):\n",
        "      z=\" \".join(page.find(s).text.split())\n",
        "      if len(z)>0 and s!=(\"style\" and \"script\"): #Удаление пустых тегов и сецификации стиля\n",
        "        tagdict[s]=z\n",
        "  a=pd.Series(tagdict['table'].split('Воспроизвести')).str.replace(\"Отметить композицию как любимую \", \"\")\n",
        "  a=a.str.replace(\"Слушать Альбом Любимая Имя композиции\", \"\")\n",
        "  a=a.str.replace(\"Купить Загрузка Больше Эта композиция - мое увлечение Получить композицию Загрузка\", \"\")\n",
        "  artist, listeners=[*a.str.split(\"  \", expand=True).T.values]\n",
        "  listtable=pd.DataFrame(listeners, index=list(artist)).iloc[1:, 0].str.split(\"слушат*\", expand=True).iloc[:, :1]\n",
        "  listtable.columns=['Artist']\n",
        "  listtable=listtable.Artist.str.replace(\" \", \"\").astype('uint32')\n",
        "  if save:\n",
        "      print(listtable, file=open(filename,'w'))\n",
        "  if plot:\n",
        "      plt.pie(listtable, autopct='%.0f%%')\n",
        "      plt.show()\n",
        "  return listtable"
      ],
      "metadata": {
        "id": "uiKrdPDiqEI8"
      },
      "execution_count": null,
      "outputs": []
    },
    {
      "cell_type": "code",
      "source": [
        "scrobbling_stats(name=input('Input name of the artist:'), save=True, plot=False, filename='TL_scrobbling stat.csv')"
      ],
      "metadata": {
        "id": "T6N4s2dg6HAm",
        "outputId": "8b254c86-6ea6-4e4f-ec40-bb9d4909e1cf",
        "colab": {
          "base_uri": "https://localhost:8080/"
        }
      },
      "execution_count": null,
      "outputs": [
        {
          "output_type": "stream",
          "name": "stdout",
          "text": [
            "Input name of the artist:Abba\n",
            "\n"
          ]
        },
        {
          "output_type": "execute_result",
          "data": {
            "text/plain": [
              " Dancing Queen                                  1555112\n",
              " Gimme! Gimme! Gimme! (A Man After Midnight)     983073\n",
              " Mamma Mia                                       980700\n",
              " Lay All Your Love on Me                         742586\n",
              " Take a Chance on Me                             718796\n",
              " The Winner Takes It All                         715145\n",
              " Waterloo                                        692730\n",
              " Money, Money, Money                             607065\n",
              " Super Trouper                                   592555\n",
              " Chiquitita                                      578869\n",
              " Fernando                                        490094\n",
              " Knowing Me, Knowing You                         473871\n",
              " Voulez-Vous                                     452233\n",
              " Does Your Mother Know                           411777\n",
              " I Have a Dream                                  365703\n",
              " Angeleyes                                       353695\n",
              " SOS                                             342436\n",
              " Thank You for the Music                         322991\n",
              " One of Us                                       297634\n",
              " The Name of the Game                            287794\n",
              " S.O.S.                                          278308\n",
              " Slipping Through My Fingers                     244602\n",
              " Happy New Year                                  241726\n",
              " Honey, Honey                                    237430\n",
              " I Do, I Do, I Do, I Do, I Do                    180143\n",
              " When I Kissed the Teacher                       162730\n",
              " Our Last Summer                                 157324\n",
              " Don't Shut Me Down                              156312\n",
              " Summer Night City                               152814\n",
              " I Still Have Faith in You                       136459\n",
              " Head Over Heels                                 133772\n",
              " The Day Before You Came                         123187\n",
              " When All Is Said and Done                       120064\n",
              " If It Wasn't for the Nights                     117972\n",
              " On and On and On                                109914\n",
              " So Long                                         108112\n",
              " Andante, Andante                                 98408\n",
              " Under Attack                                     96405\n",
              " The Visitors                                     95528\n",
              " My Love, My Life                                 95091\n",
              " Voulez Vous                                      94199\n",
              " That's Me                                        90554\n",
              " Ring Ring                                        88131\n",
              " People Need Love                                 86622\n",
              " Just a Notion                                    78529\n",
              " Hasta Manana                                     77694\n",
              " When You Danced with Me                          76284\n",
              " Little Things                                    75212\n",
              " Eagle                                            73759\n",
              " Dum Dum Diddle                                   72124\n",
              "Name: Artist, dtype: uint32"
            ]
          },
          "metadata": {},
          "execution_count": 127
        }
      ]
    },
    {
      "cell_type": "code",
      "source": [
        "response = requests.get(url1,  headers={'User-Agent': 'Mozilla/5.0'}) # Выполняем GET-запрос, содержимое ответа присваивается переменной response\n",
        "page = BeautifulSoup(response.text, 'html.parser', ) # Создаём объект BeautifulSoup, указывая html-парсер\n",
        "# print(page.title) # Получаем тег title, отображающийся на вкладке браузера\n",
        "# print(page.title.text) # Выводим текст из полученного тега, который содержится в атрибуте text\n",
        "\n",
        "# print(page.body) # Получаем тег title, отображающийся на вкладке браузера\n",
        "# print(page.body.text) # Выводим текст из полученного тега, который содержится в атрибуте text"
      ],
      "metadata": {
        "id": "lJiN8RiF1yXh"
      },
      "execution_count": null,
      "outputs": []
    },
    {
      "cell_type": "markdown",
      "source": [
        "Извлекаем все теги"
      ],
      "metadata": {
        "id": "EkrY1o2oua0F"
      }
    },
    {
      "cell_type": "markdown",
      "source": [
        "Найдём похожих исполнителей"
      ],
      "metadata": {
        "id": "hliwEclBxTBU"
      }
    },
    {
      "cell_type": "code",
      "source": [
        "set([word.get_text().strip('\\n') for word in page.find_all('h3')]).difference(set(['Перспективные композиции', 'Похожие исполнители', 'Скробблишь из Spotify?']))"
      ],
      "metadata": {
        "id": "L2DdL0fqq7Cf",
        "outputId": "44c0c6a1-9058-43b6-c328-7b140b337d0e",
        "colab": {
          "base_uri": "https://localhost:8080/"
        }
      },
      "execution_count": null,
      "outputs": [
        {
          "output_type": "execute_result",
          "data": {
            "text/plain": [
              "{'Blue Öyster Cult',\n",
              " 'Budgie',\n",
              " 'Deep Purple',\n",
              " 'Free',\n",
              " 'Michael Schenker Group',\n",
              " 'Montrose',\n",
              " 'Phil Lynott',\n",
              " 'Rainbow',\n",
              " 'Ted Nugent',\n",
              " 'UFO',\n",
              " 'Uriah Heep',\n",
              " 'Whitesnake'}"
            ]
          },
          "metadata": {},
          "execution_count": 145
        }
      ]
    }
  ]
}