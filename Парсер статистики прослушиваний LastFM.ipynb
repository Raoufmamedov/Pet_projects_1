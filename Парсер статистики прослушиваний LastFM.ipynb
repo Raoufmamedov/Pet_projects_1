{
 "cells": [
  {
   "cell_type": "markdown",
   "id": "6440ea50-fc5d-4f67-8805-5983ea8f3eab",
   "metadata": {},
   "source": [
    "### Парсер статистики прослушиваний LastFM"
   ]
  },
  {
   "cell_type": "markdown",
   "id": "749baa2f-9b8c-47bc-af6d-cf00b8ce77a5",
   "metadata": {},
   "source": [
    "Данный парсер осуществляет сбор с сервиса LastFM статистики прослушиваний по выбранному исполнителю и указывает 50 первых композиций с частотой прослушиваний за весь период предоставления сервиса, а также (опционально) выводится частота прослушиваний первых 5 композиций в виде круговой диаграммы. \r\n",
    "\r\n",
    "Также, опционально может выводиться список исполнителей, которых рекомендательная система LastFM считает похожими на текущего исполнителя.\r\n",
    "\r\n",
    "В случае если не все ссылки доступны (перемещение файла на youtube и повреждение ссылки) и данные искажены (нет возможности прослушивания из-за битых ссылок), выдаётся список доступных для прослушивания из первых пятидесяти записей (без разбивки на столбцы и диаграммы)."
   ]
  },
  {
   "cell_type": "code",
   "execution_count": 1,
   "id": "29ed2946-ee0c-47ef-af95-4a1f304f2e31",
   "metadata": {},
   "outputs": [
    {
     "name": "stdout",
     "output_type": "stream",
     "text": [
      "Requirement already satisfied: requests in c:\\programdata\\anaconda3\\lib\\site-packages (2.31.0)\n",
      "Requirement already satisfied: charset-normalizer<4,>=2 in c:\\programdata\\anaconda3\\lib\\site-packages (from requests) (2.0.4)\n",
      "Requirement already satisfied: idna<4,>=2.5 in c:\\programdata\\anaconda3\\lib\\site-packages (from requests) (3.4)\n",
      "Requirement already satisfied: urllib3<3,>=1.21.1 in c:\\programdata\\anaconda3\\lib\\site-packages (from requests) (1.26.18)\n",
      "Requirement already satisfied: certifi>=2017.4.17 in c:\\programdata\\anaconda3\\lib\\site-packages (from requests) (2023.11.17)\n"
     ]
    },
    {
     "name": "stderr",
     "output_type": "stream",
     "text": [
      "WARNING: Ignoring invalid distribution -ywinpty (c:\\programdata\\anaconda3\\lib\\site-packages)\n",
      "WARNING: Ignoring invalid distribution -ywinpty (c:\\programdata\\anaconda3\\lib\\site-packages)\n"
     ]
    },
    {
     "name": "stdout",
     "output_type": "stream",
     "text": [
      "Requirement already satisfied: beautifulSoup4 in c:\\programdata\\anaconda3\\lib\\site-packages (4.12.2)\n",
      "Requirement already satisfied: soupsieve>1.2 in c:\\programdata\\anaconda3\\lib\\site-packages (from beautifulSoup4) (2.5)\n"
     ]
    },
    {
     "name": "stderr",
     "output_type": "stream",
     "text": [
      "WARNING: Ignoring invalid distribution -ywinpty (c:\\programdata\\anaconda3\\lib\\site-packages)\n",
      "WARNING: Ignoring invalid distribution -ywinpty (c:\\programdata\\anaconda3\\lib\\site-packages)\n"
     ]
    }
   ],
   "source": [
    "# !pip install requests\n",
    "# !pip install beautifulSoup4\n",
    "from pprint import pprint # Импортируем функцию pprint()\n",
    "import json # Импортируем модуль json\n",
    "import requests\n",
    "import pandas as pd\n",
    "import numpy as np\n",
    "from bs4  import BeautifulSoup\n",
    "from matplotlib import pyplot as plt\n",
    "import seaborn as sns"
   ]
  },
  {
   "cell_type": "code",
   "execution_count": null,
   "id": "f9826789-eedf-4889-8dc9-53cd6e18432b",
   "metadata": {},
   "outputs": [],
   "source": []
  },
  {
   "cell_type": "code",
   "execution_count": 2,
   "id": "4f5ef582-4909-44aa-84a1-2a07eacebe7b",
   "metadata": {},
   "outputs": [],
   "source": [
    "def scrobbling_stats(name, save=False, plot=True, simshow=True, filename='scr_data.csv'):\n",
    "  print()\n",
    "  urllink='https://www.last.fm/ru/music/{}/+tracks?date_preset=ALL#top-tracks'.format(name)\n",
    "  response = requests.get(urllink,  headers={'User-Agent': 'Mozilla/5.0'})\n",
    "  page = BeautifulSoup(response.text, 'html.parser')\n",
    "  tagdict=dict()\n",
    "  for s in list([tag.name for tag in page.find_all()]):\n",
    "      z=\" \".join(page.find(s).text.split())\n",
    "      if len(z)>0 and s!=(\"style\" and \"script\"): #Удаление пустых тегов и сецификации стиля\n",
    "        tagdict[s]=z\n",
    "  a=pd.Series(tagdict['table'].split('Воспроизвести')).str.replace(\"Отметить композицию как любимую \", \"\").iloc[1:]\n",
    "  a=a.str.replace(\"Купить Загрузка Больше Эта композиция - мое увлечение Получить композицию Загрузка\", \"\") \n",
    "  try: # Работа при работающих ссылках\n",
    "    compo, listeners=[*a.str.split(\"  \", expand=True).T.values]\n",
    "  except: # Работа при наличии повреждённых ссылок\n",
    "    return a.reset_index().iloc[:,1].str.split(\"слушат*\", expand=True).iloc[:, :1]\n",
    "  listtable=pd.DataFrame(listeners, index=list(compo)).iloc[1:, 0].str.split(\"слушат*\", expand=True).iloc[:, :1]\n",
    "  listtable.columns=['Artist']\n",
    "  listtable=listtable.Artist.str.replace(\" \", \"\").astype('uint32')\n",
    "  similars=list(set([word.get_text().strip('\\n') for word in page.find_all('h3')]) \\\n",
    "  .difference(set(['Перспективные композиции', 'Похожие исполнители', 'Скробблишь из Spotify?'])))\n",
    "  if save:\n",
    "    print(listtable, file=open(filename,'w'))\n",
    "  if plot:\n",
    "    plt.pie(listtable[:5], autopct='%.0f%%')\n",
    "    plt.title('Top 5 compositions ratio')\n",
    "    plt.show()\n",
    "  if simshow:\n",
    "    print('List of similar artists:', '\\n')\n",
    "    print(*similars, sep='\\n')\n",
    "    print('\\n' )  \n",
    "  return listtable"
   ]
  },
  {
   "cell_type": "code",
   "execution_count": 5,
   "id": "91f0f47d-b2c5-48ec-969e-ec4c743877fa",
   "metadata": {},
   "outputs": [
    {
     "name": "stdin",
     "output_type": "stream",
     "text": [
      "Input name of the artist: Jam\n"
     ]
    },
    {
     "name": "stdout",
     "output_type": "stream",
     "text": [
      "\n"
     ]
    },
    {
     "data": {
      "image/png": "[encoded data removed]",
      "text/plain": [
       "<Figure size 640x480 with 1 Axes>"
      ]
     },
     "metadata": {},
     "output_type": "display_data"
    },
    {
     "name": "stdout",
     "output_type": "stream",
     "text": [
      "List of similar artists: \n",
      "\n",
      "Madness\n",
      "The Stranglers\n",
      "Stiff Little Fingers\n",
      "The Style Council\n",
      "Squeeze\n",
      "The Clash\n",
      "Buzzcocks\n",
      "Small Faces\n",
      "The Beat\n",
      "Dexys Midnight Runners\n",
      "The Undertones\n",
      "Paul Weller\n",
      "\n",
      "\n"
     ]
    },
    {
     "data": {
      "text/plain": [
       " Going Underground                             283482\n",
       " That's Entertainment                          271973\n",
       " In the City                                   242836\n",
       " Start!                                        152863\n",
       " The Eton Rifles                               125976\n",
       " English Rose                                  124648\n",
       " David Watts                                    96897\n",
       " Beat Surrender                                 80112\n",
       " Down in the Tube Station at Midnight           72319\n",
       " The Modern World                               72177\n",
       " All Mod Cons                                   69180\n",
       " Art School                                     61867\n",
       " Pretty Green                                   61006\n",
       " Absolute Beginners                             60816\n",
       " News of the World                              59942\n",
       " Ghosts                                         59676\n",
       " Strange Town                                   59424\n",
       " All Around the World                           57468\n",
       " When You're Young                              56859\n",
       " A Town Called Malice                           54970\n",
       " The Bitterest Pill (I Ever Had to Swallow)     54760\n",
       " To Be Someone (Didn't We Have a Nice Time)     54520\n",
       " Away from the Numbers                          53921\n",
       " Mr. Clean                                      51881\n",
       " Precious                                       47218\n",
       " Thick as Thieves                               45212\n",
       " It's Too Bad                                   44262\n",
       " 'A' Bomb in Wardour Street                     43238\n",
       " Monday                                         41547\n",
       " Billy Hunt                                     41458\n",
       " Man in the Corner Shop                         40581\n",
       " Boy About Town                                 39646\n",
       " The Butterfly Collector                        38248\n",
       " I've Changed My Address                        37537\n",
       " Batman Theme                                   37157\n",
       " Smithers-Jones                                 36866\n",
       " Private Hell                                   36360\n",
       " But I'm Different Now                          35126\n",
       " Slow Down                                      34724\n",
       " I Got By in Time                               34589\n",
       " The Place I Love                               34365\n",
       " Saturday's Kids                                33416\n",
       " Funeral Pyre                                   32226\n",
       " Sounds from the Street                         31291\n",
       " Carnation                                      30981\n",
       " Fly                                            30693\n",
       " Set the House Ablaze                           30027\n",
       " In the Crowd                                   29869\n",
       " The Dreams of Children                         29461\n",
       "Name: Artist, dtype: uint32"
      ]
     },
     "execution_count": 5,
     "metadata": {},
     "output_type": "execute_result"
    }
   ],
   "source": [
    "scrobbling_stats(name=input('Input name of the artist:'),\n",
    "                 save=True, \n",
    "                 plot=True, \n",
    "                 simshow=True, \n",
    "                 filename='TL_scrobbling stat.csv')"
   ]
  },
  {
   "cell_type": "code",
   "execution_count": null,
   "id": "413615e4-cd49-4c4b-bb62-14897b22c96e",
   "metadata": {},
   "outputs": [],
   "source": []
  }
 ],
 "metadata": {
  "kernelspec": {
   "display_name": "Python 3 (ipykernel)",
   "language": "python",
   "name": "python3"
  },
  "language_info": {
   "codemirror_mode": {
    "name": "ipython",
    "version": 3
   },
   "file_extension": ".py",
   "mimetype": "text/x-python",
   "name": "python",
   "nbconvert_exporter": "python",
   "pygments_lexer": "ipython3",
   "version": "3.9.18"
  }
 },
 "nbformat": 4,
 "nbformat_minor": 5
}
